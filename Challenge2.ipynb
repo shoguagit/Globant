{
 "cells": [
  {
   "cell_type": "code",
   "execution_count": 1,
   "metadata": {},
   "outputs": [
    {
     "name": "stdout",
     "output_type": "stream",
     "text": [
      "    department_name                            job  Q1  Q2  Q3  Q4\n",
      "0        Accounting      Account Representative IV   1   0   0   0\n",
      "1        Accounting                        Actuary   0   1   0   0\n",
      "2        Accounting             Analyst Programmer   0   0   1   0\n",
      "3        Accounting  Budget/Accounting Analyst III   0   1   0   0\n",
      "4        Accounting                Cost Accountant   0   1   0   0\n",
      "..              ...                            ...  ..  ..  ..  ..\n",
      "933        Training                        Teacher   0   2   0   0\n",
      "934        Training               Technical Writer   0   0   1   0\n",
      "935        Training          VP Product Management   1   0   0   0\n",
      "936        Training             VP Quality Control   0   1   0   0\n",
      "937        Training              Web Developer III   0   1   0   0\n",
      "\n",
      "[938 rows x 6 columns]\n"
     ]
    }
   ],
   "source": [
    "#########################################################################\n",
    "#######################GLOBANT CHALLENGE 2###############################\n",
    "#########################################################################\n",
    "\n",
    "#Challenge 2:You need to explore the data that was inserted in the first challenge. The stakeholders ask for some specific metrics they need. You should create an end-point for each requirement.\n",
    "\n",
    "#Requirement 1: The number of employees hired per department per month in 2021 and divided by quater.\n",
    "\n",
    "import sqlite3\n",
    "import pandas as pd\n",
    "\n",
    "#connect to database globantdb.db\n",
    "conn = sqlite3.connect('globantdb.db')\n",
    "\n",
    "# Create a cursor\n",
    "c = conn.cursor()\n",
    "\n",
    "# Execute the query\n",
    "c.execute(\"\"\"select department_name, job,  strftime('%Y-%m-%d',datetime),count(*) as 'Number of employees hired' \n",
    "            from hired_employees inner join departments on hired_employees.department_id = departments.id inner join jobs on hired_employees.job_id = jobs.id \n",
    "            where datetime like '2021%' group by department_name, job,  strftime('%Y-%m-%d',datetime) order by department_name, job, datetime\"\"\")\n",
    "# Fetch all the results\n",
    "results = c.fetchall()\n",
    "\n",
    "#create a new dataframe divided by quarter with the columns department_name, job, q1, q2, q3, q4\n",
    "df = pd.DataFrame(results, columns=['department_name', 'job', 'datetime', 'Number of employees hired'])\n",
    "df['datetime'] = pd.to_datetime(df['datetime'])\n",
    "df['quarter'] = df['datetime'].dt.quarter\n",
    "df = df.pivot_table(index=['department_name', 'job'], columns='quarter', values='Number of employees hired', aggfunc='sum').reset_index()\n",
    "df = df.fillna(0)\n",
    "df = df[['department_name', 'job', 1, 2, 3, 4]]\n",
    "df.columns = ['department_name', 'job', 'Q1', 'Q2', 'Q3', 'Q4']\n",
    "df = df.sort_values(by=['department_name', 'job'])\n",
    "\n",
    "#convert Q1, Q2, Q3, Q4 columns to integer type\n",
    "df['Q1'] = df['Q1'].astype(int)\n",
    "df['Q2'] = df['Q2'].astype(int)\n",
    "df['Q3'] = df['Q3'].astype(int)\n",
    "df['Q4'] = df['Q4'].astype(int)\n",
    "\n",
    "#show results in dataframe format\n",
    "print(df)\n",
    "# Close the connection\n",
    "conn.close()"
   ]
  },
  {
   "cell_type": "code",
   "execution_count": 2,
   "metadata": {},
   "outputs": [
    {
     "name": "stdout",
     "output_type": "stream",
     "text": [
      "   department_id           department_name  Number of employees hired\n",
      "0              8                   Support                        222\n",
      "1              5               Engineering                        208\n",
      "2              6           Human Resources                        204\n",
      "3              7                  Services                        204\n",
      "4              4      Business Development                        187\n",
      "5              3  Research and Development                        151\n",
      "6              9                 Marketing                        143\n"
     ]
    },
    {
     "data": {
      "image/png": "[encoded data removed]",
      "text/plain": [
       "<Figure size 720x360 with 1 Axes>"
      ]
     },
     "metadata": {
      "needs_background": "light"
     },
     "output_type": "display_data"
    }
   ],
   "source": [
    "#########################################################################\n",
    "#######################GLOBANT CHALLENGE 2###############################\n",
    "#########################################################################\n",
    "\n",
    "#Challenge 2:You need to explore the data that was inserted in the first challenge. The stakeholders ask for some specific metrics they need. You should create an end-point for each requirement.\n",
    "\n",
    "#Requirement 2: List of ids, name and number of employees hired of each department that hired more employees than the mean of employees hired in 2021 for all the departments, ordered by the number of employees hired (descending).\n",
    "import sqlite3\n",
    "import pandas as pd\n",
    "import matplotlib.pyplot as plt\n",
    "\n",
    "conn = sqlite3.connect('globantdb.db')\n",
    "\n",
    "# Create a cursor\n",
    "c = conn.cursor()\n",
    "# Execute the query\n",
    "c.execute(\"\"\"select department_id, department_name, count(*) as 'Number of employees hired'\n",
    "            from hired_employees inner join departments on hired_employees.department_id = departments.id\n",
    "            where datetime like '2021%' group by department_id, department_name\n",
    "            having count(*) > (select avg(count_hired) from (select count(*) as count_hired \n",
    "                                                from hired_employees inner join departments on hired_employees.department_id = departments.id \n",
    "                                                where datetime like '2021%' \n",
    "                                                group by department_id,department_name))\n",
    "            order by count(*) desc\"\"\")\n",
    "# Fetch all the results\n",
    "results = c.fetchall()\n",
    "\n",
    "#create a new dataframe with the columns department_id, department_name, Number of employees hired\n",
    "df = pd.DataFrame(results, columns=['department_id','department_name','Number of employees hired'])\n",
    "df = df.sort_values(by=['Number of employees hired'], ascending=False)\n",
    "print (df)\n",
    "\n",
    "\n",
    "#Create a visual report\n",
    "df.plot(kind='bar', x='department_name', y='Number of employees hired', figsize=(10, 5), color='#00C4DB')\n",
    "plt.title('Number of employees hired per department')\n",
    "plt.xlabel('Department')\n",
    "plt.ylabel('Number of employees hired')\n",
    "plt.show()\n",
    "\n",
    "#results in csv format\n",
    "df.to_csv('results_2.csv', index=False)\n",
    "\n",
    "# Close the connection\n",
    "conn.close()"
   ]
  }
 ],
 "metadata": {
  "kernelspec": {
   "display_name": "base",
   "language": "python",
   "name": "python3"
  },
  "language_info": {
   "codemirror_mode": {
    "name": "ipython",
    "version": 3
   },
   "file_extension": ".py",
   "mimetype": "text/x-python",
   "name": "python",
   "nbconvert_exporter": "python",
   "pygments_lexer": "ipython3",
   "version": "3.9.7"
  },
  "orig_nbformat": 4,
  "vscode": {
   "interpreter": {
    "hash": "1cca9558bc5ad879ec93cc030b157d75f18267527c60932cecaace349eef54dd"
   }
  }
 },
 "nbformat": 4,
 "nbformat_minor": 2
}
