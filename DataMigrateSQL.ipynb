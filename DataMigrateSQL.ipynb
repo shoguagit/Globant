{
 "cells": [
  {
   "cell_type": "code",
   "execution_count": null,
   "metadata": {},
   "outputs": [],
   "source": [
    "#########################################################################\n",
    "#######################GLOBANT CHALLENGE 1###############################\n",
    "####################Migracion de Datos a SQLITE##########################\n",
    "\n",
    "\n",
    "import pandas as pd\n",
    "import sqlite3\n",
    "\n",
    "#  Load data from csv files\n",
    "df_departaments=pd.read_csv('departments.csv', names=['id','department_name'])\n",
    "df_hired_employees=pd.read_csv('hired_employees.csv', names=['id','name','datetime','department_id','job_id'])\n",
    "df_jobs=pd.read_csv('jobs.csv', names=['id','job'])\n",
    "\n",
    "#clean data df_hired_employees and replace NAN values with 0\n",
    "df_hired_employees['department_id']=df_hired_employees['department_id'].fillna(0)\n",
    "df_hired_employees['job_id']=df_hired_employees['job_id'].fillna(0)\n",
    "\n",
    "#change data type of columns\n",
    "df_departaments['department_name']=df_departaments['department_name'].astype(str)\n",
    "#change data type of columns of df_hired_employees dataframe\n",
    "df_hired_employees['name']=df_hired_employees['name'].astype(str)\n",
    "df_hired_employees['datetime']=df_hired_employees['datetime'].astype(str)\n",
    "df_hired_employees['department_id']=df_hired_employees['department_id'].astype(int)\n",
    "df_hired_employees['job_id']=df_hired_employees['job_id'].astype(int)\n",
    "\n",
    "#change data type of columns of df_jobs dataframe\n",
    "df_jobs['job']=df_jobs['job'].astype(str)\n",
    "\n",
    "# Create/connect to a SQLite database\n",
    "conn = sqlite3.connect('globantdb.db')\n",
    "\n",
    "df_departaments.to_sql('departments', conn, if_exists='replace', index = False)\n",
    "df_hired_employees.to_sql('hired_employees', conn, if_exists='replace', index = False)\n",
    "df_jobs.to_sql('jobs', conn, if_exists='replace', index = False)\n",
    "\n",
    "# Close the connection\n",
    "conn.close()"
   ]
  }
 ],
 "metadata": {
  "kernelspec": {
   "display_name": "base",
   "language": "python",
   "name": "python3"
  },
  "language_info": {
   "name": "python",
   "version": "3.9.7 (default, Sep 16 2021, 16:59:28) [MSC v.1916 64 bit (AMD64)]"
  },
  "orig_nbformat": 4,
  "vscode": {
   "interpreter": {
    "hash": "1cca9558bc5ad879ec93cc030b157d75f18267527c60932cecaace349eef54dd"
   }
  }
 },
 "nbformat": 4,
 "nbformat_minor": 2
}
